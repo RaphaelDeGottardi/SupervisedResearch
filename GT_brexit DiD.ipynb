{
 "cells": [
  {
   "cell_type": "markdown",
   "metadata": {},
   "source": [
    "# Diff in diff Analysis of GT data related to magical thinking in response to Brexit referendum"
   ]
  },
  {
   "cell_type": "code",
   "execution_count": 1,
   "metadata": {},
   "outputs": [],
   "source": [
    "import pandas as pd\n",
    "import matplotlib.pyplot as plt\n",
    "import statsmodels.formula.api as smf\n"
   ]
  },
  {
   "cell_type": "code",
   "execution_count": 2,
   "metadata": {},
   "outputs": [
    {
     "name": "stdout",
     "output_type": "stream",
     "text": [
      "                            OLS Regression Results                            \n",
      "==============================================================================\n",
      "Dep. Variable:                    RSV   R-squared:                       0.006\n",
      "Model:                            OLS   Adj. R-squared:                  0.005\n",
      "Method:                 Least Squares   F-statistic:                     6.771\n",
      "Date:                Mon, 08 Jul 2024   Prob (F-statistic):           0.000151\n",
      "Time:                        09:32:40   Log-Likelihood:                -14104.\n",
      "No. Observations:                3150   AIC:                         2.822e+04\n",
      "Df Residuals:                    3146   BIC:                         2.824e+04\n",
      "Df Model:                           3                                         \n",
      "Covariance Type:            nonrobust                                         \n",
      "==================================================================================\n",
      "                     coef    std err          t      P>|t|      [0.025      0.975]\n",
      "----------------------------------------------------------------------------------\n",
      "Intercept         57.5862      0.756     76.197      0.000      56.104      59.068\n",
      "UK                 1.3635      1.069      1.276      0.202      -0.732       3.459\n",
      "afterBrexit        0.0997      1.074      0.093      0.926      -2.006       2.205\n",
      "UK:afterBrexit    -4.7353      1.519     -3.118      0.002      -7.713      -1.757\n",
      "==============================================================================\n",
      "Omnibus:                      415.451   Durbin-Watson:                   0.594\n",
      "Prob(Omnibus):                  0.000   Jarque-Bera (JB):              619.162\n",
      "Skew:                          -0.956   Prob(JB):                    3.55e-135\n",
      "Kurtosis:                       4.030   Cond. No.                         6.83\n",
      "==============================================================================\n",
      "\n",
      "Notes:\n",
      "[1] Standard Errors assume that the covariance matrix of the errors is correctly specified.\n"
     ]
    }
   ],
   "source": [
    "\n",
    "df_us = pd.read_csv('merged_trends_data_US.csv')\n",
    "df_uk = pd.read_csv('google_trends_data_bref.csv')\n",
    "df_us_long = pd.melt(df_us, id_vars=['date'], var_name='keyword', value_name='RSV')\n",
    "df_uk_long = pd.melt(df_uk, id_vars=['date'], var_name='keyword', value_name='RSV')\n",
    "df_us_long['region'] = 'US'\n",
    "df_uk_long['region'] = 'UK'\n",
    "df_combined = pd.concat([df_us_long, df_uk_long])\n",
    "df_combined['date'] = pd.to_datetime(df_combined['date'])\n",
    "\n",
    "\n",
    "# Create boolean masks\n",
    "brexit_date = pd.to_datetime('2016-06-23')\n",
    "\n",
    "df_combined['afterBrexit'] = (df_combined['date'] > brexit_date).astype(int)\n",
    "df_combined['UK'] = (df_combined['region'] == 'UK').astype(int)\n",
    "\n",
    "# Run the regression analysis using Statsmodels\n",
    "model = smf.ols('RSV ~ UK * afterBrexit', data=df_combined).fit()\n",
    "\n",
    "print(model.summary())\n"
   ]
  }
 ],
 "metadata": {
  "kernelspec": {
   "display_name": "Python 3",
   "language": "python",
   "name": "python3"
  },
  "language_info": {
   "codemirror_mode": {
    "name": "ipython",
    "version": 3
   },
   "file_extension": ".py",
   "mimetype": "text/x-python",
   "name": "python",
   "nbconvert_exporter": "python",
   "pygments_lexer": "ipython3",
   "version": "3.10.14"
  }
 },
 "nbformat": 4,
 "nbformat_minor": 2
}
