{
 "cells": [
  {
   "cell_type": "markdown",
   "metadata": {},
   "source": [
    "# Analysis of GT data related to magical thinking in response to Brexit referendum"
   ]
  },
  {
   "cell_type": "code",
   "execution_count": 1,
   "metadata": {},
   "outputs": [],
   "source": [
    "from pytrends.request import TrendReq\n",
    "import pandas as pd\n",
    "import matplotlib.pyplot as plt\n",
    "import time\n"
   ]
  },
  {
   "cell_type": "code",
   "execution_count": 13,
   "metadata": {},
   "outputs": [],
   "source": [
    "# List of keywords generated from Chatgpt\n",
    "keywords = [\n",
    "    \"Astrology\",\n",
    "    \"Horoscope\",\n",
    "    \"Fortune telling\",\n",
    "    \"Psychic\",\n",
    "    \"Tarot reading\",\n",
    "    \"Numerology\",\n",
    "    \"Palm reading\",\n",
    "    \"Clairvoyant\",\n",
    "    \"Crystal ball\",\n",
    "    \"Magic spells\",\n",
    "    \"Occult\",\n",
    "    \"Spiritual healing\",\n",
    "    \"Witchcraft\",\n",
    "    \"Mediumship\",\n",
    "    \"Superstition\"\n",
    "]"
   ]
  },
  {
   "cell_type": "code",
   "execution_count": 6,
   "metadata": {},
   "outputs": [
    {
     "name": "stdout",
     "output_type": "stream",
     "text": [
      "Data for Astrology fetched successfully.\n",
      "Data for Horoscope fetched successfully.\n",
      "An error occurred for keyword 'Fortune telling': The request failed: Google returned a response with code 429\n",
      "Data for Psychic fetched successfully.\n",
      "Data for Tarot reading fetched successfully.\n",
      "Data for Numerology fetched successfully.\n",
      "Data for Palm reading fetched successfully.\n",
      "Data for Clairvoyant fetched successfully.\n",
      "Data for Crystal ball fetched successfully.\n",
      "Data for Magic spells fetched successfully.\n",
      "Data for Occult fetched successfully.\n",
      "Data for Spiritual healing fetched successfully.\n",
      "Data for Witchcraft fetched successfully.\n",
      "Data for Mediumship fetched successfully.\n",
      "Data for Superstition fetched successfully.\n",
      "            Astrology  Horoscope  Psychic  Tarot reading  Numerology  \\\n",
      "date                                                                   \n",
      "2015-06-21         64         83       68             95          52   \n",
      "2015-06-28         86         92       74             91          56   \n",
      "2015-07-05         68         84       73             98          55   \n",
      "2015-07-12         58         84       70             96          58   \n",
      "2015-07-19         65         81       72             94          49   \n",
      "\n",
      "            Palm reading  Clairvoyant  Crystal ball  Magic spells  Occult  \\\n",
      "date                                                                        \n",
      "2015-06-21            58           28            41            79      59   \n",
      "2015-06-28            60           28            45            76      51   \n",
      "2015-07-05            58           26            49            81      58   \n",
      "2015-07-12            58           24            49            85      55   \n",
      "2015-07-19            60           25            53            88      54   \n",
      "\n",
      "            Spiritual healing  Witchcraft  Mediumship  Superstition  \n",
      "date                                                                 \n",
      "2015-06-21                 69          59           0            59  \n",
      "2015-06-28                 58          61          42            76  \n",
      "2015-07-05                 72          54           0            60  \n",
      "2015-07-12                 70          61           0            56  \n",
      "2015-07-19                 73          58           0            54  \n"
     ]
    }
   ],
   "source": [
    "# Initialize pytrends request\n",
    "pytrends = TrendReq(hl='en-US', tz=360)\n",
    "\n",
    "# Function to fetch Google Trends data for a list of keywords\n",
    "# important parameters:\n",
    "# - timeframe (1y before and after brexit referendum date)\n",
    "# - geo_ two letter code of country/region of interest\n",
    "def fetch_trends_data(keywords, timeframe='2015-06-23 2017-06-23', geo='US'):\n",
    "    all_data = pd.DataFrame()\n",
    "\n",
    "    for keyword in keywords:\n",
    "        try:\n",
    "            pytrends.build_payload([keyword], cat=0, timeframe=timeframe, geo=geo, gprop='')\n",
    "            data = pytrends.interest_over_time()\n",
    "            if not data.empty:\n",
    "                data = data.drop(columns=['isPartial'])  # Remove 'isPartial' column if it exists\n",
    "                all_data = pd.concat([all_data, data], axis=1)\n",
    "                print(f\"Data for {keyword} fetched successfully.\")\n",
    "            else:\n",
    "                print(f\"No data found for keyword: {keyword}\")\n",
    "        except Exception as e:\n",
    "            print(f\"An error occurred for keyword '{keyword}': {e}\")\n",
    "        # Adding a delay between requests to avoid rate limiting\n",
    "        time.sleep(5)\n",
    "\n",
    "    return all_data\n",
    "\n",
    "# Fetch data for the keywords\n",
    "trends_data = fetch_trends_data(keywords)\n",
    "\n",
    "# Save the data to a CSV file\n",
    "trends_data.to_csv('google_trends_data_US_.csv')\n",
    "\n",
    "# Display the data\n",
    "print(trends_data.head())\n",
    "\n",
    "#this precedure often failed doe to Googles bot detection, please refer to the README for troubleshooting\n"
   ]
  }
 ],
 "metadata": {
  "kernelspec": {
   "display_name": "Python 3",
   "language": "python",
   "name": "python3"
  },
  "language_info": {
   "codemirror_mode": {
    "name": "ipython",
    "version": 3
   },
   "file_extension": ".py",
   "mimetype": "text/x-python",
   "name": "python",
   "nbconvert_exporter": "python",
   "pygments_lexer": "ipython3",
   "version": "3.10.14"
  }
 },
 "nbformat": 4,
 "nbformat_minor": 2
}
